{
 "cells": [
  {
   "cell_type": "code",
   "execution_count": 1,
   "id": "937f01aa",
   "metadata": {},
   "outputs": [
    {
     "data": {
      "text/plain": [
       "{'analyses': None,\n",
       " 'collections': None,\n",
       " 'created': datetime.datetime(2021, 8, 30, 14, 47, 20, 159000, tzinfo=tzutc()),\n",
       " 'files': [{'classification': {'Intent': ['Functional']},\n",
       "            'created': datetime.datetime(2021, 8, 30, 14, 47, 30, 625000, tzinfo=tzutc()),\n",
       "            'deid_log_id': None,\n",
       "            'file_id': None,\n",
       "            'hash': 'v0-sha384-7f64a1cfa8fe8233dd17f45ffc603e323a5377c36808d709d9628f594978f7eab9fb5b3906b8bbe65188b3ecd7e23990',\n",
       "            'id': '62d23528-cc7d-4767-a2a6-658dd025176f',\n",
       "            'info': {'BIDS': {'Acq': '',\n",
       "                              'Echo': '',\n",
       "                              'Filename': 'sub-P18001_task-rest_run-02_bold.nii.gz',\n",
       "                              'Folder': 'func',\n",
       "                              'Modality': 'bold',\n",
       "                              'Path': 'sub-P18001/func',\n",
       "                              'Rec': '',\n",
       "                              'Run': '02',\n",
       "                              'Task': 'rest',\n",
       "                              'ignore': False,\n",
       "                              'template': 'func_file'}},\n",
       "            'info_exists': True,\n",
       "            'mimetype': 'application/octet-stream',\n",
       "            'modality': 'MR',\n",
       "            'modified': datetime.datetime(2021, 8, 30, 14, 49, 14, 141000, tzinfo=tzutc()),\n",
       "            'name': 'sub-P18001_task-rest_run-02_bold.nii.gz',\n",
       "            'origin': {'id': 'tien.tong@mssm.edu',\n",
       "                       'method': None,\n",
       "                       'name': None,\n",
       "                       'type': 'user',\n",
       "                       'via': None},\n",
       "            'parent_ref': None,\n",
       "            'parents': None,\n",
       "            'replaced': None,\n",
       "            'size': 484352482,\n",
       "            'tags': [],\n",
       "            'type': 'nifti',\n",
       "            'version': None,\n",
       "            'zip_member_count': None},\n",
       "           {'classification': {'Intent': ['Functional'],\n",
       "                               'Measurement': ['T2*']},\n",
       "            'created': datetime.datetime(2021, 8, 30, 15, 5, 55, 594000, tzinfo=tzutc()),\n",
       "            'deid_log_id': None,\n",
       "            'file_id': None,\n",
       "            'hash': 'v0-sha384-28383a88d785ddcebb69c30a8f1fd7e8035336f65e17ce29151d295312c133b889919222050d65de6eeadfbba254057e',\n",
       "            'id': 'c9b896d4-4669-4a63-bfe1-0634b59043bd',\n",
       "            'info': {},\n",
       "            'info_exists': True,\n",
       "            'mimetype': 'text/html',\n",
       "            'modality': 'MR',\n",
       "            'modified': datetime.datetime(2021, 8, 30, 15, 5, 55, 384000, tzinfo=tzutc()),\n",
       "            'name': 'sub-P18001_task-rest_run-02_bold_mriqc.qa.html',\n",
       "            'origin': {'id': '612cf05cab3b080017d768dc',\n",
       "                       'method': None,\n",
       "                       'name': None,\n",
       "                       'type': 'job',\n",
       "                       'via': None},\n",
       "            'parent_ref': None,\n",
       "            'parents': None,\n",
       "            'replaced': None,\n",
       "            'size': 2667731,\n",
       "            'tags': [],\n",
       "            'type': 'qa',\n",
       "            'version': None,\n",
       "            'zip_member_count': None}],\n",
       " 'id': '612cef785fe9cfe229d768d2',\n",
       " 'info': {},\n",
       " 'info_exists': False,\n",
       " 'label': 'task-rest_run-02',\n",
       " 'modified': datetime.datetime(2021, 8, 30, 15, 5, 55, 594000, tzinfo=tzutc()),\n",
       " 'notes': [],\n",
       " 'parents': {'acquisition': None,\n",
       "             'analysis': None,\n",
       "             'group': 'bachilab',\n",
       "             'project': '611ffe6938cc4c3947d768d7',\n",
       "             'session': '612cef61e10ce37d0cd768d1',\n",
       "             'subject': '612cef61e10ce37d0cd768cf'},\n",
       " 'permissions': [{'access': None,\n",
       "                  'id': 'tien.tong@mssm.edu',\n",
       "                  'role_ids': ['5ee03142409120000e522e46']}],\n",
       " 'revision': 6,\n",
       " 'session': '612cef61e10ce37d0cd768d1',\n",
       " 'tags': [],\n",
       " 'timestamp': None,\n",
       " 'timezone': None,\n",
       " 'uid': None}"
      ]
     },
     "execution_count": 1,
     "metadata": {},
     "output_type": "execute_result"
    }
   ],
   "source": [
    "import flywheel\n",
    "import logging\n",
    "\n",
    "fw = flywheel.Client()\n",
    "project = fw.projects.find_one('label=Test')\n",
    "mriqc_gear = fw.gears.find_first('gear.name=mriqc')\n",
    "\n",
    "rest = fw.acquisitions.find('files.info.BIDS.Task=rest,files.info.BIDS.Modality!=sbref,files.type=nifti')\n",
    "\n",
    "rest[0]"
   ]
  },
  {
   "cell_type": "code",
   "execution_count": 2,
   "id": "b457cd43",
   "metadata": {},
   "outputs": [
    {
     "ename": "AttributeError",
     "evalue": "'str' object has no attribute 'ref'",
     "output_type": "error",
     "traceback": [
      "\u001b[0;31m---------------------------------------------------------------------------\u001b[0m",
      "\u001b[0;31mAttributeError\u001b[0m                            Traceback (most recent call last)",
      "\u001b[0;32m<ipython-input-2-e8e81ec13607>\u001b[0m in \u001b[0;36m<module>\u001b[0;34m\u001b[0m\n\u001b[0;32m----> 1\u001b[0;31m mriqc_gear.run(inputs=rest[0], \n\u001b[0m\u001b[1;32m      2\u001b[0m                destination=fw.get_session(rest[0].parents.session))\n\u001b[1;32m      3\u001b[0m \u001b[0;34m\u001b[0m\u001b[0m\n",
      "\u001b[0;32m~/opt/anaconda3/lib/python3.8/site-packages/flywheel/models/gear_mixin.py\u001b[0m in \u001b[0;36mrun\u001b[0;34m(self, config, analysis_label, tags, destination, inputs, **kwargs)\u001b[0m\n\u001b[1;32m    142\u001b[0m             \u001b[0mkwargs\u001b[0m\u001b[0;34m.\u001b[0m\u001b[0mupdate\u001b[0m\u001b[0;34m(\u001b[0m\u001b[0minputs\u001b[0m\u001b[0;34m)\u001b[0m\u001b[0;34m\u001b[0m\u001b[0;34m\u001b[0m\u001b[0m\n\u001b[1;32m    143\u001b[0m         \u001b[0;32mfor\u001b[0m \u001b[0mkey\u001b[0m\u001b[0;34m,\u001b[0m \u001b[0minput\u001b[0m \u001b[0;32min\u001b[0m \u001b[0mkwargs\u001b[0m\u001b[0;34m.\u001b[0m\u001b[0mitems\u001b[0m\u001b[0;34m(\u001b[0m\u001b[0;34m)\u001b[0m\u001b[0;34m:\u001b[0m\u001b[0;34m\u001b[0m\u001b[0;34m\u001b[0m\u001b[0m\n\u001b[0;32m--> 144\u001b[0;31m             \u001b[0minvocation\u001b[0m\u001b[0;34m.\u001b[0m\u001b[0mset_input\u001b[0m\u001b[0;34m(\u001b[0m\u001b[0mkey\u001b[0m\u001b[0;34m,\u001b[0m \u001b[0minput\u001b[0m\u001b[0;34m)\u001b[0m\u001b[0;34m\u001b[0m\u001b[0;34m\u001b[0m\u001b[0m\n\u001b[0m\u001b[1;32m    145\u001b[0m \u001b[0;34m\u001b[0m\u001b[0m\n\u001b[1;32m    146\u001b[0m         \u001b[0;32mreturn\u001b[0m \u001b[0minvocation\u001b[0m\u001b[0;34m.\u001b[0m\u001b[0mrun\u001b[0m\u001b[0;34m(\u001b[0m\u001b[0;34m)\u001b[0m\u001b[0;34m\u001b[0m\u001b[0;34m\u001b[0m\u001b[0m\n",
      "\u001b[0;32m~/opt/anaconda3/lib/python3.8/site-packages/flywheel/models/gear_invocation.py\u001b[0m in \u001b[0;36mset_input\u001b[0;34m(self, key, input)\u001b[0m\n\u001b[1;32m     44\u001b[0m     \u001b[0;32mdef\u001b[0m \u001b[0mset_input\u001b[0m\u001b[0;34m(\u001b[0m\u001b[0mself\u001b[0m\u001b[0;34m,\u001b[0m \u001b[0mkey\u001b[0m\u001b[0;34m,\u001b[0m \u001b[0minput\u001b[0m\u001b[0;34m)\u001b[0m\u001b[0;34m:\u001b[0m\u001b[0;34m\u001b[0m\u001b[0;34m\u001b[0m\u001b[0m\n\u001b[1;32m     45\u001b[0m         \u001b[0;34m\"\"\"Add an input\"\"\"\u001b[0m\u001b[0;34m\u001b[0m\u001b[0;34m\u001b[0m\u001b[0m\n\u001b[0;32m---> 46\u001b[0;31m         \u001b[0mself\u001b[0m\u001b[0;34m.\u001b[0m\u001b[0minputs\u001b[0m\u001b[0;34m[\u001b[0m\u001b[0mkey\u001b[0m\u001b[0;34m]\u001b[0m \u001b[0;34m=\u001b[0m \u001b[0mutil\u001b[0m\u001b[0;34m.\u001b[0m\u001b[0mto_ref\u001b[0m\u001b[0;34m(\u001b[0m\u001b[0minput\u001b[0m\u001b[0;34m)\u001b[0m\u001b[0;34m\u001b[0m\u001b[0;34m\u001b[0m\u001b[0m\n\u001b[0m\u001b[1;32m     47\u001b[0m \u001b[0;34m\u001b[0m\u001b[0m\n\u001b[1;32m     48\u001b[0m     \u001b[0;32mdef\u001b[0m \u001b[0mset_destination\u001b[0m\u001b[0;34m(\u001b[0m\u001b[0mself\u001b[0m\u001b[0;34m,\u001b[0m \u001b[0mdest\u001b[0m\u001b[0;34m)\u001b[0m\u001b[0;34m:\u001b[0m\u001b[0;34m\u001b[0m\u001b[0;34m\u001b[0m\u001b[0m\n",
      "\u001b[0;32m~/opt/anaconda3/lib/python3.8/site-packages/flywheel/util.py\u001b[0m in \u001b[0;36mto_ref\u001b[0;34m(obj)\u001b[0m\n\u001b[1;32m     76\u001b[0m \u001b[0;32mdef\u001b[0m \u001b[0mto_ref\u001b[0m\u001b[0;34m(\u001b[0m\u001b[0mobj\u001b[0m\u001b[0;34m)\u001b[0m\u001b[0;34m:\u001b[0m\u001b[0;34m\u001b[0m\u001b[0;34m\u001b[0m\u001b[0m\n\u001b[1;32m     77\u001b[0m     \u001b[0;34m\"\"\"Convert a file or container to a reference\"\"\"\u001b[0m\u001b[0;34m\u001b[0m\u001b[0;34m\u001b[0m\u001b[0m\n\u001b[0;32m---> 78\u001b[0;31m     \u001b[0mref_fn\u001b[0m \u001b[0;34m=\u001b[0m \u001b[0mgetattr\u001b[0m\u001b[0;34m(\u001b[0m\u001b[0mobj\u001b[0m\u001b[0;34m,\u001b[0m \u001b[0;34m\"ref\"\u001b[0m\u001b[0;34m)\u001b[0m\u001b[0;34m\u001b[0m\u001b[0;34m\u001b[0m\u001b[0m\n\u001b[0m\u001b[1;32m     79\u001b[0m     \u001b[0;32mif\u001b[0m \u001b[0mref_fn\u001b[0m\u001b[0;34m:\u001b[0m\u001b[0;34m\u001b[0m\u001b[0;34m\u001b[0m\u001b[0m\n\u001b[1;32m     80\u001b[0m         \u001b[0;32mreturn\u001b[0m \u001b[0mref_fn\u001b[0m\u001b[0;34m(\u001b[0m\u001b[0;34m)\u001b[0m\u001b[0;34m\u001b[0m\u001b[0;34m\u001b[0m\u001b[0m\n",
      "\u001b[0;31mAttributeError\u001b[0m: 'str' object has no attribute 'ref'"
     ]
    }
   ],
   "source": [
    "mriqc_gear.run(inputs=rest[0], \n",
    "               destination=fw.get_session(rest[0].parents.session))\n",
    "    "
   ]
  },
  {
   "cell_type": "markdown",
   "id": "d2e4f138",
   "metadata": {},
   "source": [
    "# Use example code\n",
    "\n",
    "https://docs.flywheel.io/hc/en-us/articles/360061737113-Batch-Run-Gears"
   ]
  },
  {
   "cell_type": "code",
   "execution_count": 3,
   "id": "fe6ca6a3",
   "metadata": {},
   "outputs": [],
   "source": [
    "# Instantiate a logger\n",
    "logging.basicConfig(level=logging.INFO, format='%(asctime)s %(levelname)s %(message)s')\n",
    "log = logging.getLogger('root')\n",
    "\n",
    "def run_gear(gear, inputs, dest):\n",
    "    \"\"\"Submits a job with specified gear and inputs.\n",
    "    \n",
    "    Args:\n",
    "        gear (flywheel.Gear): A Flywheel Gear.\n",
    "        inputs (dict): Input dictionary for the gear.\n",
    "        dest (flywheel.container): A Flywheel Container where the output will be stored.\n",
    "        \n",
    "    Returns:\n",
    "        str: The id of the submitted job.\n",
    "        \n",
    "    \"\"\"\n",
    "    try:\n",
    "        # Run the gear on the inputs provided, stored output in dest constainer and returns job ID\n",
    "        gear_job_id = gear.run(inputs=inputs, destination=dest)\n",
    "        log.debug('Submitted job %s', gear_job_id)\n",
    "        return gear_job_id\n",
    "    except flywheel.rest.ApiException:\n",
    "        log.exception('An exception was raised when attempting to submit a job for %s',\n",
    "                      file_obj.files[0].name)\n",
    "\n"
   ]
  },
  {
   "cell_type": "code",
   "execution_count": 4,
   "id": "495f6967",
   "metadata": {},
   "outputs": [
    {
     "name": "stderr",
     "output_type": "stream",
     "text": [
      "ERROR:root:An exception was raised when attempting to submit a job for sub-P18001_task-rest_run-02_bold.nii.gz\n",
      "Traceback (most recent call last):\n",
      "  File \"<ipython-input-3-10773b91530e>\", line 19, in run_gear\n",
      "    gear_job_id = gear.run(inputs=inputs, destination=dest)\n",
      "  File \"/Users/TienTong/opt/anaconda3/lib/python3.8/site-packages/flywheel/models/gear_mixin.py\", line 146, in run\n",
      "    return invocation.run()\n",
      "  File \"/Users/TienTong/opt/anaconda3/lib/python3.8/site-packages/flywheel/models/gear_invocation.py\", line 74, in run\n",
      "    return self.__context.add_job(job)\n",
      "  File \"/Users/TienTong/opt/anaconda3/lib/python3.8/site-packages/flywheel/flywheel.py\", line 3306, in add_job\n",
      "    return self.jobs_api.add_job(body, **kwargs)\n",
      "  File \"/Users/TienTong/opt/anaconda3/lib/python3.8/site-packages/flywheel/api/jobs_api.py\", line 140, in add_job\n",
      "    (data) = self.add_job_with_http_info(body, **kwargs)  # noqa: E501\n",
      "  File \"/Users/TienTong/opt/anaconda3/lib/python3.8/site-packages/flywheel/api/jobs_api.py\", line 202, in add_job_with_http_info\n",
      "    return self.api_client.call_api(\n",
      "  File \"/Users/TienTong/opt/anaconda3/lib/python3.8/site-packages/flywheel/api_client.py\", line 356, in call_api\n",
      "    return self.__call_api(resource_path, method,\n",
      "  File \"/Users/TienTong/opt/anaconda3/lib/python3.8/site-packages/flywheel/api_client.py\", line 187, in __call_api\n",
      "    response_data = self.request(\n",
      "  File \"/Users/TienTong/opt/anaconda3/lib/python3.8/site-packages/flywheel/api_client.py\", line 398, in request\n",
      "    return self.rest_client.POST(url,\n",
      "  File \"/Users/TienTong/opt/anaconda3/lib/python3.8/site-packages/flywheel/rest.py\", line 241, in POST\n",
      "    return self.request(\"POST\", url,\n",
      "  File \"/Users/TienTong/opt/anaconda3/lib/python3.8/site-packages/flywheel/rest.py\", line 145, in request\n",
      "    r = self.session.request(method, url,\n",
      "  File \"/Users/TienTong/opt/anaconda3/lib/python3.8/site-packages/requests/sessions.py\", line 542, in request\n",
      "    resp = self.send(prep, **send_kwargs)\n",
      "  File \"/Users/TienTong/opt/anaconda3/lib/python3.8/site-packages/requests/sessions.py\", line 662, in send\n",
      "    r = dispatch_hook('response', hooks, r, **kwargs)\n",
      "  File \"/Users/TienTong/opt/anaconda3/lib/python3.8/site-packages/requests/hooks.py\", line 31, in dispatch_hook\n",
      "    _hook_data = hook(hook_data, **kwargs)\n",
      "  File \"/Users/TienTong/opt/anaconda3/lib/python3.8/site-packages/flywheel/rest.py\", line 99, in response_hook\n",
      "    raise ApiException(http_resp=resp)\n",
      "flywheel.rest.ApiException: (400) Reason: Input nifti does not have a properly formatted file reference.\n"
     ]
    }
   ],
   "source": [
    "# Initialize mriqc_job_list\n",
    "mriqc_job_list = list()\n",
    "for file_obj in rest[0:1]:\n",
    "    inputs = {'nifti':file_obj}\n",
    "    dest = fw.get_session(file_obj.parents.session)\n",
    "    job_id = run_gear(mriqc_gear, inputs, dest)\n",
    "    mriqc_job_list.append(job_id)\n"
   ]
  }
 ],
 "metadata": {
  "kernelspec": {
   "display_name": "Python 3",
   "language": "python",
   "name": "python3"
  },
  "language_info": {
   "codemirror_mode": {
    "name": "ipython",
    "version": 3
   },
   "file_extension": ".py",
   "mimetype": "text/x-python",
   "name": "python",
   "nbconvert_exporter": "python",
   "pygments_lexer": "ipython3",
   "version": "3.8.10"
  }
 },
 "nbformat": 4,
 "nbformat_minor": 5
}
